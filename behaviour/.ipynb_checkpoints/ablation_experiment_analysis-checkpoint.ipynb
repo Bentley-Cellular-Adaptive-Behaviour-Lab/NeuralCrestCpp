{
 "cells": [
  {
   "cell_type": "code",
   "execution_count": 13,
   "metadata": {},
   "outputs": [],
   "source": [
    "import pandas as pd\n",
    "import os"
   ]
  },
  {
   "cell_type": "code",
   "execution_count": 14,
   "metadata": {},
   "outputs": [],
   "source": [
    "# Find cells that have passed the middle\n",
    "def cells_out_mp(cellpositions_df, middle_exit_border):\n",
    "    \n",
    "    return len(cellpositions_df.query('y_position < @middle_exit_border').cell_label.unique())"
   ]
  },
  {
   "cell_type": "code",
   "execution_count": 15,
   "metadata": {},
   "outputs": [
    {
     "name": "stdout",
     "output_type": "stream",
     "text": [
      "36400.0\n",
      "33000.0\n",
      "22200.0\n",
      "19200.1\n",
      "26200.0\n",
      "20800.1\n",
      "35400.1\n",
      "21400.0\n",
      "28000.1\n",
      "29200.1\n",
      "29000.0\n",
      "24800.0\n",
      "33200.0\n",
      "19800.0\n",
      "24400.1\n",
      "43000.1\n",
      "16600.1\n",
      "22000.1\n",
      "20000.0\n",
      "26000.0\n",
      "20000.0\n",
      "33400.1\n"
     ]
    }
   ],
   "source": [
    "# Check each file in experimental condition\n",
    "headers = ['time',\n",
    "           'y_position',\n",
    "           'x_position',\n",
    "           'v_auto_0',\n",
    "           'v_auto_1',\n",
    "           'v_bound_0',\n",
    "           'v_bound_1',\n",
    "           'cellradius',\n",
    "           'cell_label',\n",
    "           'cell_type',\n",
    "           'experiment_type',\n",
    "           'Nc']\n",
    "output_dir = '/Users/feldnerd/Documents/GitHub/NeuralCrestCpp/leader_ablation/'\n",
    "\n",
    "result_df = pd.DataFrame(columns=['cells_out_mp','time', 'filename'])\n",
    "\n",
    "LANL_2_exiting_movies = 0\n",
    "total_LANL_movies = os.listdir(output_dir)\n",
    "\n",
    "for filename in os.listdir(output_dir):\n",
    "    if filename != '.DS_Store':\n",
    "        \n",
    "        cellpositions_df = pd.read_csv(output_dir+os.sep+filename+'/cellpositions.txt',\n",
    "                 names = headers,\n",
    "                 sep = '\\s',\n",
    "                 engine = 'python')\n",
    "        \n",
    "        # Get initialcondition df\n",
    "        initial_conditions = pd.read_csv(output_dir+os.sep+filename+'/initialconditions.txt',header=None,delimiter=r\"\\s+\")\n",
    "        initial_conditions.columns = ['Parameter','Value']\n",
    "        experimentType = initial_conditions.loc[initial_conditions['Parameter']=='experimentType'].values[0][1]\n",
    "        leader_autonomousMag = initial_conditions.loc[initial_conditions['Parameter']=='leader_autonomousMag'].values[0][1]\n",
    "        leader_De = initial_conditions.loc[initial_conditions['Parameter']=='leader_De'].values[0][1]\n",
    "        leader_interactionThreshold = initial_conditions.loc[initial_conditions['Parameter']=='leader_interactionThreshold'].values[0][1]\n",
    "        follower_autonomousMag = initial_conditions.loc[initial_conditions['Parameter']=='follower_autonomousMag'].values[0][1]\n",
    "        follower_De = initial_conditions.loc[initial_conditions['Parameter']=='follower_De'].values[0][1]\n",
    "        follower_interactionThreshold = initial_conditions.loc[initial_conditions['Parameter']=='follower_interactionThreshold'].values[0][1]\n",
    "        PMZheight = initial_conditions.loc[initial_conditions['Parameter']=='PMZheight'].values[0][1]\n",
    "        Clength = initial_conditions.loc[initial_conditions['Parameter']=='Clength'].values[0][1]\n",
    "        CMwidth = 0.8 # TODO get this into the logfile\n",
    "        CEwidth = initial_conditions.loc[initial_conditions['Parameter']=='CEwidth'].values[0][1]\n",
    "        migratory_zone_border = -PMZheight/2.0 -Clength/10.0\n",
    "        diamondOffset = (CMwidth-CEwidth)/2.0\n",
    "        middle_exit_border = -diamondOffset-Clength-PMZheight/2.0\n",
    "        \n",
    "        \n",
    "        time_steps = cellpositions_df.time.unique()\n",
    "        result_added = False\n",
    "        for time_step in time_steps:\n",
    "\n",
    "            # Get df of just this timestep\n",
    "            time_step_df = cellpositions_df.query('time == @time_step')\n",
    "\n",
    "            # Count number of cells passing mp\n",
    "            num_exiting_cells = cells_out_mp(time_step_df, middle_exit_border)\n",
    "            \n",
    "            # If cells out pmz, count them\n",
    "            if num_exiting_cells > 1 and result_added == False:\n",
    "                \n",
    "                # Df from dictionary\n",
    "                data = {'cells_out_mp': [num_exiting_cells], \n",
    "                        'experimentType': [experimentType],\n",
    "                        'time': [time_step],\n",
    "                        'filename': [filename]}\n",
    "                \n",
    "                single_result_df = pd.DataFrame.from_dict(data)\n",
    "                result_df = result_df.append(single_result_df)\n",
    "                result_added = True\n",
    "                print(time_step)\n",
    "                \n",
    "                LANL_2_exiting_movies = LANL_2_exiting_movies + 1\n",
    "                \n",
    "result_df.to_csv('leaderAblationNextLeader_results.csv')\n"
   ]
  },
  {
   "cell_type": "code",
   "execution_count": 16,
   "metadata": {},
   "outputs": [
    {
     "data": {
      "text/plain": [
       "22"
      ]
     },
     "execution_count": 16,
     "metadata": {},
     "output_type": "execute_result"
    }
   ],
   "source": [
    "LANL_2_exiting_movies"
   ]
  },
  {
   "cell_type": "code",
   "execution_count": 17,
   "metadata": {},
   "outputs": [
    {
     "data": {
      "text/plain": [
       "50"
      ]
     },
     "execution_count": 17,
     "metadata": {},
     "output_type": "execute_result"
    }
   ],
   "source": [
    "len(total_LANL_movies)"
   ]
  },
  {
   "cell_type": "code",
   "execution_count": 18,
   "metadata": {},
   "outputs": [
    {
     "name": "stdout",
     "output_type": "stream",
     "text": [
      "31600.0\n",
      "31000.1\n",
      "28600.0\n",
      "30400.1\n",
      "45200.0\n",
      "36800.1\n",
      "27000.1\n",
      "35400.1\n",
      "30800.1\n",
      "44200.0\n",
      "31400.0\n",
      "39600.1\n"
     ]
    }
   ],
   "source": [
    "# Check each file in experimental condition\n",
    "headers = ['time',\n",
    "           'y_position',\n",
    "           'x_position',\n",
    "           'v_auto_0',\n",
    "           'v_auto_1',\n",
    "           'v_bound_0',\n",
    "           'v_bound_1',\n",
    "           'cellradius',\n",
    "           'cell_label',\n",
    "           'cell_type',\n",
    "           'experiment_type',\n",
    "           'Nc']\n",
    "output_dir = 'data/Ablation/leaderAblation'\n",
    "\n",
    "LA_result_df = pd.DataFrame(columns=['cells_out_mp','time', 'filename'])\n",
    "\n",
    "LA_2_exiting_movies = 0\n",
    "total_LA_movies = os.listdir(output_dir)\n",
    "\n",
    "for filename in os.listdir(output_dir):\n",
    "    if filename != '.DS_Store':\n",
    "        \n",
    "        cellpositions_df = pd.read_csv(output_dir+os.sep+filename+'/cellpositions.txt',\n",
    "                 names = headers,\n",
    "                 sep = '\\s',\n",
    "                 engine = 'python')\n",
    "        \n",
    "        # Get initialcondition df\n",
    "        initial_conditions = pd.read_csv(output_dir+os.sep+filename+'/initialconditions.txt',header=None,delimiter=r\"\\s+\")\n",
    "        initial_conditions.columns = ['Parameter','Value']\n",
    "        experimentType = initial_conditions.loc[initial_conditions['Parameter']=='experimentType'].values[0][1]\n",
    "        leader_autonomousMag = initial_conditions.loc[initial_conditions['Parameter']=='leader_autonomousMag'].values[0][1]\n",
    "        leader_De = initial_conditions.loc[initial_conditions['Parameter']=='leader_De'].values[0][1]\n",
    "        leader_interactionThreshold = initial_conditions.loc[initial_conditions['Parameter']=='leader_interactionThreshold'].values[0][1]\n",
    "        follower_autonomousMag = initial_conditions.loc[initial_conditions['Parameter']=='follower_autonomousMag'].values[0][1]\n",
    "        follower_De = initial_conditions.loc[initial_conditions['Parameter']=='follower_De'].values[0][1]\n",
    "        follower_interactionThreshold = initial_conditions.loc[initial_conditions['Parameter']=='follower_interactionThreshold'].values[0][1]\n",
    "        PMZheight = initial_conditions.loc[initial_conditions['Parameter']=='PMZheight'].values[0][1]\n",
    "        Clength = initial_conditions.loc[initial_conditions['Parameter']=='Clength'].values[0][1]\n",
    "        CMwidth = 0.8 # TODO get this into the logfile\n",
    "        CEwidth = initial_conditions.loc[initial_conditions['Parameter']=='CEwidth'].values[0][1]\n",
    "        migratory_zone_border = -PMZheight/2.0 -Clength/10.0\n",
    "        diamondOffset = (CMwidth-CEwidth)/2.0\n",
    "        middle_exit_border = -diamondOffset-Clength-PMZheight/2.0\n",
    "        \n",
    "        \n",
    "        time_steps = cellpositions_df.time.unique()\n",
    "        result_added = False\n",
    "        for time_step in time_steps:\n",
    "\n",
    "            # Get df of just this timestep\n",
    "            time_step_df = cellpositions_df.query('time == @time_step')\n",
    "\n",
    "            # Count number of cells passing mp\n",
    "            num_exiting_cells = cells_out_mp(time_step_df, middle_exit_border)\n",
    "            \n",
    "            # If cells out pmz, count them\n",
    "            if num_exiting_cells > 2 and result_added == False:\n",
    "                \n",
    "                \n",
    "                # Df from dictionary\n",
    "                data = {'cells_out_mp': [num_exiting_cells], \n",
    "                        'experimentType': [experimentType],\n",
    "                        'time': [time_step],\n",
    "                        'filename': [filename]}\n",
    "                \n",
    "                single_result_df = pd.DataFrame.from_dict(data)\n",
    "                LA_result_df = LA_result_df.append(single_result_df)\n",
    "                result_added = True\n",
    "                print(time_step)\n",
    "                \n",
    "                LA_2_exiting_movies = LA_2_exiting_movies + 1\n",
    "\n",
    "LA_result_df.to_csv('leaderAblation_results.csv')"
   ]
  },
  {
   "cell_type": "code",
   "execution_count": 19,
   "metadata": {},
   "outputs": [
    {
     "data": {
      "text/plain": [
       "12"
      ]
     },
     "execution_count": 19,
     "metadata": {},
     "output_type": "execute_result"
    }
   ],
   "source": [
    "LA_2_exiting_movies"
   ]
  },
  {
   "cell_type": "code",
   "execution_count": 20,
   "metadata": {},
   "outputs": [
    {
     "data": {
      "text/plain": [
       "51"
      ]
     },
     "execution_count": 20,
     "metadata": {},
     "output_type": "execute_result"
    }
   ],
   "source": [
    "len(total_LA_movies)"
   ]
  },
  {
   "cell_type": "code",
   "execution_count": 21,
   "metadata": {},
   "outputs": [
    {
     "name": "stdout",
     "output_type": "stream",
     "text": [
      "45800.1\n",
      "31800.1\n",
      "26000.0\n",
      "46400.1\n",
      "23000.1\n",
      "19400.1\n",
      "24400.1\n",
      "27000.1\n",
      "21000.0\n",
      "30000.0\n",
      "29600.1\n",
      "33000.0\n",
      "23400.0\n",
      "29200.1\n",
      "37000.1\n",
      "28400.1\n",
      "28200.1\n",
      "28400.1\n",
      "30600.1\n",
      "33400.1\n",
      "38000.1\n",
      "33400.1\n",
      "38800.1\n",
      "21400.0\n",
      "26200.0\n",
      "23600.0\n"
     ]
    }
   ],
   "source": [
    "# Check each file in experimental condition\n",
    "headers = ['time',\n",
    "           'y_position',\n",
    "           'x_position',\n",
    "           'v_auto_0',\n",
    "           'v_auto_1',\n",
    "           'v_bound_0',\n",
    "           'v_bound_1',\n",
    "           'cellradius',\n",
    "           'cell_label',\n",
    "           'cell_type',\n",
    "           'experiment_type',\n",
    "           'Nc']\n",
    "output_dir = 'data/Ablation/control'\n",
    "\n",
    "Control_result_df = pd.DataFrame(columns=['cells_out_mp','time', 'filename'])\n",
    "\n",
    "control_2_exiting_movies = 0\n",
    "total_control_movies = os.listdir(output_dir)\n",
    "\n",
    "for filename in os.listdir(output_dir):\n",
    "    if filename != '.DS_Store':\n",
    "        \n",
    "        cellpositions_df = pd.read_csv(output_dir+os.sep+filename+'/cellpositions.txt',\n",
    "                 names = headers,\n",
    "                 sep = '\\s',\n",
    "                 engine = 'python')\n",
    "        \n",
    "        # Get initialcondition df\n",
    "        initial_conditions = pd.read_csv(output_dir+os.sep+filename+'/initialconditions.txt',header=None,delimiter=r\"\\s+\")\n",
    "        initial_conditions.columns = ['Parameter','Value']\n",
    "        experimentType = initial_conditions.loc[initial_conditions['Parameter']=='experimentType'].values[0][1]\n",
    "        leader_autonomousMag = initial_conditions.loc[initial_conditions['Parameter']=='leader_autonomousMag'].values[0][1]\n",
    "        leader_De = initial_conditions.loc[initial_conditions['Parameter']=='leader_De'].values[0][1]\n",
    "        leader_interactionThreshold = initial_conditions.loc[initial_conditions['Parameter']=='leader_interactionThreshold'].values[0][1]\n",
    "        follower_autonomousMag = initial_conditions.loc[initial_conditions['Parameter']=='follower_autonomousMag'].values[0][1]\n",
    "        follower_De = initial_conditions.loc[initial_conditions['Parameter']=='follower_De'].values[0][1]\n",
    "        follower_interactionThreshold = initial_conditions.loc[initial_conditions['Parameter']=='follower_interactionThreshold'].values[0][1]\n",
    "        PMZheight = initial_conditions.loc[initial_conditions['Parameter']=='PMZheight'].values[0][1]\n",
    "        Clength = initial_conditions.loc[initial_conditions['Parameter']=='Clength'].values[0][1]\n",
    "        CMwidth = 0.8 # TODO get this into the logfile\n",
    "        CEwidth = initial_conditions.loc[initial_conditions['Parameter']=='CEwidth'].values[0][1]\n",
    "        migratory_zone_border = -PMZheight/2.0 -Clength/10.0\n",
    "        diamondOffset = (CMwidth-CEwidth)/2.0\n",
    "        middle_exit_border = -diamondOffset-Clength-PMZheight/2.0\n",
    "        \n",
    "        \n",
    "        time_steps = cellpositions_df.time.unique()\n",
    "        result_added = False\n",
    "        for time_step in time_steps:\n",
    "\n",
    "            # Get df of just this timestep\n",
    "            time_step_df = cellpositions_df.query('time == @time_step')\n",
    "\n",
    "            # Count number of cells passing mp\n",
    "            num_exiting_cells = cells_out_mp(time_step_df, middle_exit_border)\n",
    "            \n",
    "            # If cells out pmz, count them\n",
    "            if num_exiting_cells > 2 and result_added == False:\n",
    "                \n",
    "                \n",
    "                # Df from dictionary\n",
    "                data = {'cells_out_mp': [num_exiting_cells], \n",
    "                        'experimentType': [experimentType],\n",
    "                        'time': [time_step],\n",
    "                        'filename': [filename]}\n",
    "                \n",
    "                single_result_df = pd.DataFrame.from_dict(data)\n",
    "                Control_result_df = Control_result_df.append(single_result_df)\n",
    "                result_added = True\n",
    "                print(time_step)\n",
    "                \n",
    "                control_2_exiting_movies = control_2_exiting_movies + 1\n",
    "\n",
    "Control_result_df.to_csv('leaderAblationControl_results.csv')"
   ]
  },
  {
   "cell_type": "code",
   "execution_count": 22,
   "metadata": {},
   "outputs": [
    {
     "data": {
      "text/plain": [
       "26"
      ]
     },
     "execution_count": 22,
     "metadata": {},
     "output_type": "execute_result"
    }
   ],
   "source": [
    "control_2_exiting_movies"
   ]
  },
  {
   "cell_type": "code",
   "execution_count": 23,
   "metadata": {},
   "outputs": [
    {
     "data": {
      "text/plain": [
       "50"
      ]
     },
     "execution_count": 23,
     "metadata": {},
     "output_type": "execute_result"
    }
   ],
   "source": [
    "len(total_control_movies)"
   ]
  },
  {
   "cell_type": "code",
   "execution_count": 24,
   "metadata": {},
   "outputs": [
    {
     "data": {
      "image/png": "[encoded data removed]",
      "text/plain": [
       "<Figure size 432x288 with 1 Axes>"
      ]
     },
     "metadata": {
      "needs_background": "light"
     },
     "output_type": "display_data"
    }
   ],
   "source": [
    "import matplotlib.pyplot as plt\n",
    "\n",
    "fig, (ax) = plt.subplots()\n",
    "\n",
    "cells_getting_stuck = ablation_experiments = plt.bar(['Control', 'Leader ablation','Leader ablation\\nnext leader', ],\n",
    "                               [len(total_control_movies)-1-control_2_exiting_movies,\n",
    "                                len(total_LA_movies)-1-LA_2_exiting_movies,\n",
    "                                len(total_LANL_movies)-1-LANL_2_exiting_movies])\n",
    "\n",
    "#ax.set(ylim=[5000, 50000])\n",
    "ax.set_ylabel(\"Number of runs\")\n",
    "ax.set_title(\"Runs where cells don't pass middle\")\n",
    "\n",
    "ablation_experiments[0].set_color('darkslategray')\n",
    "ablation_experiments[1].set_color('mediumvioletred')\n",
    "ablation_experiments[2].set_color('dodgerblue')"
   ]
  },
  {
   "cell_type": "code",
   "execution_count": null,
   "metadata": {},
   "outputs": [],
   "source": []
  },
  {
   "cell_type": "code",
   "execution_count": null,
   "metadata": {},
   "outputs": [],
   "source": []
  },
  {
   "cell_type": "code",
   "execution_count": null,
   "metadata": {},
   "outputs": [],
   "source": []
  },
  {
   "cell_type": "code",
   "execution_count": null,
   "metadata": {},
   "outputs": [],
   "source": []
  }
 ],
 "metadata": {
  "kernelspec": {
   "display_name": "Python 3",
   "language": "python",
   "name": "python3"
  },
  "language_info": {
   "codemirror_mode": {
    "name": "ipython",
    "version": 3
   },
   "file_extension": ".py",
   "mimetype": "text/x-python",
   "name": "python",
   "nbconvert_exporter": "python",
   "pygments_lexer": "ipython3",
   "version": "3.8.5"
  }
 },
 "nbformat": 4,
 "nbformat_minor": 4
}
