{
 "cells": [
  {
   "cell_type": "code",
   "execution_count": 8,
   "metadata": {},
   "outputs": [],
   "source": [
    "import pandas as pd\n",
    "import matplotlib.pyplot as plt"
   ]
  },
  {
   "cell_type": "code",
   "execution_count": 4,
   "metadata": {},
   "outputs": [],
   "source": [
    "data = pd.read_csv('/Users/feldnerd/Documents/GitHub/NeuralCrestCpp/simulation_summary_output_0_.csv')"
   ]
  },
  {
   "cell_type": "code",
   "execution_count": 15,
   "metadata": {},
   "outputs": [],
   "source": [
    "results_table = pd.pivot_table(data, \n",
    "               values='middle_passers', \n",
    "               index=None, \n",
    "               columns='experimentType', \n",
    "               aggfunc='sum',)"
   ]
  },
  {
   "cell_type": "code",
   "execution_count": 12,
   "metadata": {},
   "outputs": [
    {
     "data": {
      "text/html": [
       "<div>\n",
       "<style scoped>\n",
       "    .dataframe tbody tr th:only-of-type {\n",
       "        vertical-align: middle;\n",
       "    }\n",
       "\n",
       "    .dataframe tbody tr th {\n",
       "        vertical-align: top;\n",
       "    }\n",
       "\n",
       "    .dataframe thead th {\n",
       "        text-align: right;\n",
       "    }\n",
       "</style>\n",
       "<table border=\"1\" class=\"dataframe\">\n",
       "  <thead>\n",
       "    <tr style=\"text-align: right;\">\n",
       "      <th>experimentType</th>\n",
       "      <th>1.0</th>\n",
       "      <th>9.0</th>\n",
       "      <th>10.0</th>\n",
       "    </tr>\n",
       "  </thead>\n",
       "  <tbody>\n",
       "    <tr>\n",
       "      <th>middle_passers</th>\n",
       "      <td>144</td>\n",
       "      <td>60</td>\n",
       "      <td>98</td>\n",
       "    </tr>\n",
       "  </tbody>\n",
       "</table>\n",
       "</div>"
      ],
      "text/plain": [
       "experimentType  1.0   9.0   10.0\n",
       "middle_passers   144    60    98"
      ]
     },
     "execution_count": 12,
     "metadata": {},
     "output_type": "execute_result"
    }
   ],
   "source": [
    "# ablation_experiments = plt.bar(['Control', 'Leader ablation','Leader ablation\\nnext leader', ],\n",
    "#                                [mean_time_two_cells_MP_exit_Control,\n",
    "#                                 mean_time_two_cells_MP_exit_LeaderAblation,\n",
    "#                                 mean_time_two_cells_MP_exit_LeaderAblationNextLeader])\n",
    "\n",
    "# ax.set(ylim=[5000, 50000])\n",
    "# ax.set_ylabel('Mean time steps elapsed before cell\\n passes middle (arbitrary units)')\n",
    "# ax.set_title('Migration completion speed in control vs leader ablation')\n",
    "\n",
    "# ablation_experiments[0].set_color('darkslategray')\n",
    "# ablation_experiments[1].set_color('mediumvioletred')\n",
    "# ablation_experiments[2].set_color('dodgerblue')"
   ]
  },
  {
   "cell_type": "code",
   "execution_count": 33,
   "metadata": {},
   "outputs": [],
   "source": [
    "result_array = results_table.values[0]"
   ]
  },
  {
   "cell_type": "code",
   "execution_count": 34,
   "metadata": {},
   "outputs": [],
   "source": [
    "type1 = result_array[0]\n",
    "type9 = result_array[1]\n",
    "type10 = result_array[2]"
   ]
  },
  {
   "cell_type": "code",
   "execution_count": 11,
   "metadata": {},
   "outputs": [
    {
     "data": {
      "text/plain": [
       "[<matplotlib.lines.Line2D at 0x118088ee0>,\n",
       " <matplotlib.lines.Line2D at 0x1180970d0>,\n",
       " <matplotlib.lines.Line2D at 0x118097190>]"
      ]
     },
     "execution_count": 11,
     "metadata": {},
     "output_type": "execute_result"
    },
    {
     "data": {
      "image/png": "[encoded data removed]",
      "text/plain": [
       "<Figure size 432x288 with 1 Axes>"
      ]
     },
     "metadata": {
      "needs_background": "light"
     },
     "output_type": "display_data"
    }
   ],
   "source": [
    "ablation_experiment = plt.bar(['Control', 'Leader ablation','Leader ablation\\nnext leader', ])"
   ]
  },
  {
   "cell_type": "code",
   "execution_count": null,
   "metadata": {},
   "outputs": [],
   "source": []
  }
 ],
 "metadata": {
  "kernelspec": {
   "display_name": "Python 3",
   "language": "python",
   "name": "python3"
  },
  "language_info": {
   "codemirror_mode": {
    "name": "ipython",
    "version": 3
   },
   "file_extension": ".py",
   "mimetype": "text/x-python",
   "name": "python",
   "nbconvert_exporter": "python",
   "pygments_lexer": "ipython3",
   "version": "3.8.5"
  }
 },
 "nbformat": 4,
 "nbformat_minor": 4
}
