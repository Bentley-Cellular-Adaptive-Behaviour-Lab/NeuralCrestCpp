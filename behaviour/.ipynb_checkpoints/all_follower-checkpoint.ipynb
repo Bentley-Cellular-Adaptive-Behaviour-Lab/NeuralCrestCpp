{
 "cells": [
  {
   "cell_type": "code",
   "execution_count": 1,
   "metadata": {},
   "outputs": [],
   "source": [
    "import pandas as pd\n",
    "import os\n",
    "import numpy as np"
   ]
  },
  {
   "cell_type": "code",
   "execution_count": 2,
   "metadata": {},
   "outputs": [],
   "source": [
    "headers = ['time',\n",
    "           'y_position',\n",
    "           'x_position',\n",
    "           'v_auto_0',\n",
    "           'v_auto_1',\n",
    "           'v_bound_0',\n",
    "           'v_bound_1',\n",
    "           'cellradius',\n",
    "           'cell_label',\n",
    "           'cell_type',\n",
    "           'experiment_type',\n",
    "           'Nc']\n",
    "\n"
   ]
  },
  {
   "cell_type": "code",
   "execution_count": 5,
   "metadata": {},
   "outputs": [],
   "source": [
    "max_time = 80000"
   ]
  },
  {
   "cell_type": "code",
   "execution_count": 6,
   "metadata": {},
   "outputs": [],
   "source": [
    "# Find cells that have passed the middle\n",
    "def cells_out_mp(cellpositions_df, middle_exit_border):\n",
    "    \n",
    "    return len(cellpositions_df.query('y_position < @middle_exit_border').cell_label.unique())"
   ]
  },
  {
   "cell_type": "code",
   "execution_count": 18,
   "metadata": {},
   "outputs": [
    {
     "name": "stdout",
     "output_type": "stream",
     "text": [
      "['l_aM5_l_De100_l_iT1000000_f_aM5_f_De500_f_iT_1_slurmArray_1_runID_3865_experimentType_20', 'l_aM5_l_De100_l_iT1000000_f_aM5_f_De500_f_iT_1_slurmArray_1_runID_1116_experimentType_20']\n",
      "3\n",
      "1\n",
      "1\n",
      "1\n",
      "2\n",
      "0\n",
      "0\n",
      "0\n",
      "0\n",
      "0\n",
      "0\n",
      "1\n",
      "3\n",
      "1\n",
      "1\n",
      "0\n",
      "0\n",
      "1\n",
      "1\n",
      "1\n",
      "0\n",
      "2\n",
      "1\n",
      "2\n",
      "2\n",
      "1\n",
      "1\n",
      "1\n",
      "0\n",
      "2\n",
      "2\n",
      "1\n",
      "2\n",
      "0\n",
      "1\n",
      "2\n",
      "3\n",
      "1\n",
      "2\n",
      "1\n",
      "1\n",
      "1\n",
      "1\n",
      "0\n",
      "2\n",
      "1\n",
      "0\n",
      "1\n",
      "3\n",
      "0\n"
     ]
    }
   ],
   "source": [
    "filepath = '/Users/feldnerd/Documents/GitHub/NeuralCrestCpp/all_followers'\n",
    "file_list = [file for file in os.walk(filepath)]\n",
    "file_list = np.asarray(file_list,dtype=object)[0,1]\n",
    "print(file_list[:2])\n",
    "\n",
    "num_exiting_cells_total = 0\n",
    "\n",
    "for file in file_list:\n",
    "    \n",
    "    cellpositions_df = pd.read_csv(filepath+os.sep+file+os.sep+'cellpositions.txt',\n",
    "                 names = headers,\n",
    "                 sep = '\\s',\n",
    "                 engine = 'python')\n",
    "    \n",
    "        # Get initialcondition df\n",
    "    initial_conditions = pd.read_csv(filepath+os.sep+file+'/initialconditions.txt',header=None,delimiter=r\"\\s+\")\n",
    "    initial_conditions.columns = ['Parameter','Value']\n",
    "    experimentType = initial_conditions.loc[initial_conditions['Parameter']=='experimentType'].values[0][1]\n",
    "    leader_autonomousMag = initial_conditions.loc[initial_conditions['Parameter']=='leader_autonomousMag'].values[0][1]\n",
    "    leader_De = initial_conditions.loc[initial_conditions['Parameter']=='leader_De'].values[0][1]\n",
    "    leader_interactionThreshold = initial_conditions.loc[initial_conditions['Parameter']=='leader_interactionThreshold'].values[0][1]\n",
    "    follower_autonomousMag = initial_conditions.loc[initial_conditions['Parameter']=='follower_autonomousMag'].values[0][1]\n",
    "    follower_De = initial_conditions.loc[initial_conditions['Parameter']=='follower_De'].values[0][1]\n",
    "    follower_interactionThreshold = initial_conditions.loc[initial_conditions['Parameter']=='follower_interactionThreshold'].values[0][1]\n",
    "    PMZheight = initial_conditions.loc[initial_conditions['Parameter']=='PMZheight'].values[0][1]\n",
    "    Clength = initial_conditions.loc[initial_conditions['Parameter']=='Clength'].values[0][1]\n",
    "    CMwidth = initial_conditions.loc[initial_conditions['Parameter']=='CMwidth'].values[0][1]\n",
    "    CEwidth = initial_conditions.loc[initial_conditions['Parameter']=='CEwidth'].values[0][1]\n",
    "    migratory_zone_border = -PMZheight/2.0 -Clength/10.0\n",
    "    diamondOffset = (CMwidth-CEwidth)/2.0\n",
    "    middle_exit_border = -diamondOffset-Clength-PMZheight/2.0\n",
    "    \n",
    "    # Get final timestep\n",
    "    final_timestep_df = cellpositions_df.query('time >= @max_time')\n",
    "    \n",
    "        \n",
    "    # Count number of cells passing mp\n",
    "    num_exiting_cells = cells_out_mp(final_timestep_df, middle_exit_border)\n",
    "    \n",
    "    num_exiting_cells_total = num_exiting_cells_total + num_exiting_cells\n",
    "    \n",
    "print(num_exiting_cells_total)"
   ]
  },
  {
   "cell_type": "code",
   "execution_count": 15,
   "metadata": {},
   "outputs": [
    {
     "data": {
      "text/plain": [
       "54"
      ]
     },
     "execution_count": 15,
     "metadata": {},
     "output_type": "execute_result"
    }
   ],
   "source": [
    "num_exiting_cells_total"
   ]
  },
  {
   "cell_type": "code",
   "execution_count": 25,
   "metadata": {},
   "outputs": [
    {
     "name": "stdout",
     "output_type": "stream",
     "text": [
      "['l_aM50_l_De100_l_iT1000000_f_aM5_f_De500_f_iT_1_slurmArray_1_runID_3257_experimentType_14', 'l_aM50_l_De100_l_iT1000000_f_aM5_f_De500_f_iT_1_slurmArray_1_runID_4744_experimentType_14']\n",
      "36\n"
     ]
    }
   ],
   "source": [
    "filepath = '/Users/feldnerd/Documents/GitHub/NeuralCrestCpp/all_followers_control'\n",
    "file_list = [file for file in os.walk(filepath)]\n",
    "file_list = np.asarray(file_list,dtype=object)[0,1]\n",
    "print(file_list[:2])\n",
    "\n",
    "num_exiting_cells_total = 0\n",
    "\n",
    "for file in file_list:\n",
    "    \n",
    "    cellpositions_df = pd.read_csv(filepath+os.sep+file+os.sep+'cellpositions.txt',\n",
    "                 names = headers,\n",
    "                 sep = '\\s',\n",
    "                 engine = 'python')\n",
    "    \n",
    "        # Get initialcondition df\n",
    "    initial_conditions = pd.read_csv(filepath+os.sep+file+'/initialconditions.txt',header=None,delimiter=r\"\\s+\")\n",
    "    initial_conditions.columns = ['Parameter','Value']\n",
    "    experimentType = initial_conditions.loc[initial_conditions['Parameter']=='experimentType'].values[0][1]\n",
    "    leader_autonomousMag = initial_conditions.loc[initial_conditions['Parameter']=='leader_autonomousMag'].values[0][1]\n",
    "    leader_De = initial_conditions.loc[initial_conditions['Parameter']=='leader_De'].values[0][1]\n",
    "    leader_interactionThreshold = initial_conditions.loc[initial_conditions['Parameter']=='leader_interactionThreshold'].values[0][1]\n",
    "    follower_autonomousMag = initial_conditions.loc[initial_conditions['Parameter']=='follower_autonomousMag'].values[0][1]\n",
    "    follower_De = initial_conditions.loc[initial_conditions['Parameter']=='follower_De'].values[0][1]\n",
    "    follower_interactionThreshold = initial_conditions.loc[initial_conditions['Parameter']=='follower_interactionThreshold'].values[0][1]\n",
    "    PMZheight = initial_conditions.loc[initial_conditions['Parameter']=='PMZheight'].values[0][1]\n",
    "    Clength = initial_conditions.loc[initial_conditions['Parameter']=='Clength'].values[0][1]\n",
    "    CMwidth = initial_conditions.loc[initial_conditions['Parameter']=='CMwidth'].values[0][1]\n",
    "    CEwidth = initial_conditions.loc[initial_conditions['Parameter']=='CEwidth'].values[0][1]\n",
    "    migratory_zone_border = -PMZheight/2.0 -Clength/10.0\n",
    "    diamondOffset = (CMwidth-CEwidth)/2.0\n",
    "    middle_exit_border = -diamondOffset-Clength-PMZheight/2.0\n",
    "    \n",
    "    # Get final timestep\n",
    "    final_timestep_df = cellpositions_df.query('time >= @max_time')\n",
    "    \n",
    "        \n",
    "    # Count number of cells passing mp\n",
    "    num_exiting_cells = cells_out_mp(final_timestep_df, middle_exit_border)\n",
    "    \n",
    "    num_exiting_cells_total = num_exiting_cells_total + num_exiting_cells\n",
    "    \n",
    "print(num_exiting_cells_total)"
   ]
  },
  {
   "cell_type": "code",
   "execution_count": 20,
   "metadata": {},
   "outputs": [
    {
     "data": {
      "text/plain": [
       "54"
      ]
     },
     "execution_count": 20,
     "metadata": {},
     "output_type": "execute_result"
    }
   ],
   "source": [
    "num_exiting_cells_total"
   ]
  },
  {
   "cell_type": "code",
   "execution_count": null,
   "metadata": {},
   "outputs": [],
   "source": []
  }
 ],
 "metadata": {
  "kernelspec": {
   "display_name": "Python 3",
   "language": "python",
   "name": "python3"
  },
  "language_info": {
   "codemirror_mode": {
    "name": "ipython",
    "version": 3
   },
   "file_extension": ".py",
   "mimetype": "text/x-python",
   "name": "python",
   "nbconvert_exporter": "python",
   "pygments_lexer": "ipython3",
   "version": "3.8.5"
  }
 },
 "nbformat": 4,
 "nbformat_minor": 4
}
