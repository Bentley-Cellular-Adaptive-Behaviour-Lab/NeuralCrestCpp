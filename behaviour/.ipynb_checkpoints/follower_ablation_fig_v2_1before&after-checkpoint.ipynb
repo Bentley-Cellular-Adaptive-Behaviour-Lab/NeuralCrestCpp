{
 "cells": [
  {
   "cell_type": "code",
   "execution_count": 1,
   "metadata": {},
   "outputs": [],
   "source": [
    "import pandas as pd\n",
    "from matplotlib import pyplot as plt\n",
    "import numpy as np\n",
    "import os"
   ]
  },
  {
   "cell_type": "code",
   "execution_count": 18,
   "metadata": {},
   "outputs": [],
   "source": [
    "headers = ['time',\n",
    "           'y_position',\n",
    "           'x_position',\n",
    "           'v_auto_0',\n",
    "           'v_auto_1',\n",
    "           'v_bound_0',\n",
    "           'v_bound_1',\n",
    "           'cellradius',\n",
    "           'cell_label',\n",
    "           'cell_type',\n",
    "           'experiment_type',\n",
    "           'Nc']\n",
    "#filepath = '/Users/feldnerd/Desktop/Neural_Crest_Papers/Data_For_Figures/September/ablation/ablation_experiments/FollowerAblation_2_longerCL'\n",
    "filepath = '/Users/feldnerd/Documents/GitHub/NeuralCrestCpp/follower_ablation/'"
   ]
  },
  {
   "cell_type": "code",
   "execution_count": 19,
   "metadata": {},
   "outputs": [
    {
     "name": "stdout",
     "output_type": "stream",
     "text": [
      "['l_aM5_l_De100_l_iT1000000_f_aM5_f_De500_f_iT_1_slurmArray_1_runID_194_experimentType_15', 'l_aM5_l_De100_l_iT1000000_f_aM5_f_De500_f_iT_1_slurmArray_1_runID_1850_experimentType_15']\n"
     ]
    }
   ],
   "source": [
    "file_list = [file for file in os.walk(filepath)]\n",
    "file_list = np.asarray(file_list,dtype=object)[0,1]\n",
    "print(file_list[:2])"
   ]
  },
  {
   "cell_type": "code",
   "execution_count": 20,
   "metadata": {},
   "outputs": [],
   "source": [
    "prev_label = -1\n",
    "prev_y = -1000\n",
    "PMZheight = 0.5\n",
    "Clength = 1.2\n",
    "outside_PMZ = -PMZheight/2.0 -Clength/10.0\n",
    "window_size = 2"
   ]
  },
  {
   "cell_type": "code",
   "execution_count": 21,
   "metadata": {},
   "outputs": [
    {
     "name": "stdout",
     "output_type": "stream",
     "text": [
      "Success\n",
      "Success\n",
      "Success\n",
      "Success\n",
      "Success\n",
      "Success\n",
      "Success\n",
      "Success\n",
      "Success\n",
      "Success\n",
      "Success\n",
      "Success\n",
      "Success\n",
      "Success\n",
      "Success\n",
      "Success\n",
      "Success\n",
      "Success\n",
      "Success\n",
      "Success\n",
      "Success\n",
      "Success\n",
      "Success\n",
      "Success\n",
      "Success\n",
      "Success\n",
      "Success\n",
      "Success\n",
      "Success\n",
      "Success\n",
      "Success\n",
      "Success\n",
      "Success\n",
      "Success\n",
      "Success\n",
      "Success\n",
      "Success\n",
      "Success\n",
      "Success\n",
      "Success\n",
      "Success\n",
      "Success\n",
      "Success\n",
      "Success\n",
      "Success\n",
      "Success\n",
      "Success\n",
      "Success\n",
      "Success\n",
      "Success\n"
     ]
    }
   ],
   "source": [
    "mean_before_change_y_list = []\n",
    "mean_after_change_y_list = []\n",
    "\n",
    "for file in file_list:\n",
    "    \n",
    "    cellpositions_df = pd.read_csv(filepath+os.sep+file+os.sep+'cellpositions.txt',\n",
    "                 names = headers,\n",
    "                 sep = '\\s',\n",
    "                 engine = 'python')\n",
    "    #print(cellpositions_df.head(3))\n",
    "    \n",
    "    timestep_list = cellpositions_df.time.unique()\n",
    "    \n",
    "    # identify where follower was deleted\n",
    "    for index, row in cellpositions_df.iterrows():\n",
    "\n",
    "        current_label = row['cell_label']\n",
    "        current_y = row['y_position']\n",
    "        this_time = row['time']\n",
    "\n",
    "        if (current_label - prev_label) > 1:\n",
    "\n",
    "            follower_ablation_time_step = row['time']\n",
    "            break\n",
    "\n",
    "        prev_label = current_label\n",
    "        \n",
    "        \n",
    "    # Which timestep index was the follower ablation at?\n",
    "    follower_ablation_timestep_index = np.where(timestep_list==follower_ablation_time_step)\n",
    "    #follower_ablation_timestep_index = follower_ablation_timestep_index[0][0]\n",
    "    if len(follower_ablation_timestep_index[0]) > 0:\n",
    "        follower_ablation_timestep_index = follower_ablation_timestep_index[0][0]\n",
    "        \n",
    "        before_change_y_list = []\n",
    "        after_change_y_list = []\n",
    "        leader_time_steps_list = []\n",
    "        \n",
    "        try:\n",
    "\n",
    "            for time_step_index in range(len(timestep_list)):\n",
    "\n",
    "                this_time_step = timestep_list[time_step_index]\n",
    "\n",
    "                if(time_step_index>0):\n",
    "                    previous_time_step = timestep_list[time_step_index-1]\n",
    "\n",
    "                    this_time_step_df = cellpositions_df.query('time == @this_time_step')\n",
    "                    previous_time_step_df = cellpositions_df.query('time == @previous_time_step')\n",
    "\n",
    "                    for index, row in this_time_step_df.iterrows():\n",
    "\n",
    "                        this_cell_label = row['cell_label']\n",
    "                        this_y_position = row['y_position']\n",
    "                        this_cell_type = row['cell_type']\n",
    "\n",
    "                        if this_y_position < outside_PMZ and this_cell_type == 2:# and this_time_step >= follower_ablation_time_step:\n",
    "\n",
    "                            # 1 steps before\n",
    "                            if this_time_step == timestep_list[follower_ablation_timestep_index-1]:\n",
    "\n",
    "                                leader_time_steps_list.append(this_time_step)\n",
    "\n",
    "                                previous_y_position = previous_time_step_df.loc[previous_time_step_df['cell_label'] == this_cell_label, 'y_position'].iloc[0]\n",
    "                                this_y_change = this_y_position-previous_y_position\n",
    "                                before_change_y_list.append(this_y_change)\n",
    "\n",
    "                             # 1 steps after\n",
    "                            elif this_time_step == timestep_list[follower_ablation_timestep_index+1]:\n",
    "\n",
    "                                leader_time_steps_list.append(this_time_step)\n",
    "\n",
    "                                previous_y_position = previous_time_step_df.loc[previous_time_step_df['cell_label'] == this_cell_label, 'y_position'].iloc[0]\n",
    "                                this_y_change = this_y_position-previous_y_position\n",
    "                                after_change_y_list.append(this_y_change)\n",
    "\n",
    "            mean_before_y_change = np.max(before_change_y_list)\n",
    "            mean_before_change_y_list.append(mean_before_y_change)\n",
    "\n",
    "            mean_after_y_change = np.max(after_change_y_list)\n",
    "            mean_after_change_y_list.append(mean_after_y_change)\n",
    "\n",
    "            print(\"Success\")\n",
    "                        \n",
    "        except IndexError:\n",
    "            print(\"Index error\")\n",
    "            print(file)\n",
    "            pass\n",
    "\n",
    "    else:\n",
    "        print(\"Problem\")\n",
    "        print(follower_ablation_timestep_index)\n",
    "        print(file)\n",
    "\n",
    "    \n",
    "    "
   ]
  },
  {
   "cell_type": "code",
   "execution_count": 22,
   "metadata": {},
   "outputs": [
    {
     "data": {
      "text/plain": [
       "-0.029607920000000013"
      ]
     },
     "execution_count": 22,
     "metadata": {},
     "output_type": "execute_result"
    }
   ],
   "source": [
    "np.mean(mean_before_change_y_list)"
   ]
  },
  {
   "cell_type": "code",
   "execution_count": 23,
   "metadata": {},
   "outputs": [
    {
     "data": {
      "text/plain": [
       "-0.006702619999999999"
      ]
     },
     "execution_count": 23,
     "metadata": {},
     "output_type": "execute_result"
    }
   ],
   "source": [
    "np.mean(mean_after_change_y_list)"
   ]
  },
  {
   "cell_type": "code",
   "execution_count": 24,
   "metadata": {},
   "outputs": [
    {
     "data": {
      "text/plain": [
       "[<matplotlib.lines.Line2D at 0x11f949100>]"
      ]
     },
     "execution_count": 24,
     "metadata": {},
     "output_type": "execute_result"
    },
    {
     "data": {
      "image/png": "[encoded data removed]",
      "text/plain": [
       "<Figure size 432x288 with 1 Axes>"
      ]
     },
     "metadata": {
      "needs_background": "light"
     },
     "output_type": "display_data"
    }
   ],
   "source": [
    "plt.plot(mean_after_change_y_list)"
   ]
  },
  {
   "cell_type": "code",
   "execution_count": 25,
   "metadata": {},
   "outputs": [
    {
     "data": {
      "text/plain": [
       "[<matplotlib.lines.Line2D at 0x11fb52ca0>]"
      ]
     },
     "execution_count": 25,
     "metadata": {},
     "output_type": "execute_result"
    },
    {
     "data": {
      "image/png": "[encoded data removed]",
      "text/plain": [
       "<Figure size 432x288 with 1 Axes>"
      ]
     },
     "metadata": {
      "needs_background": "light"
     },
     "output_type": "display_data"
    }
   ],
   "source": [
    "plt.plot(mean_before_change_y_list)"
   ]
  },
  {
   "cell_type": "code",
   "execution_count": 26,
   "metadata": {},
   "outputs": [
    {
     "name": "stdout",
     "output_type": "stream",
     "text": [
      "0.08\n"
     ]
    }
   ],
   "source": [
    "number_backwards_moves_before = [element for element in mean_before_change_y_list if element > 0]\n",
    "percentage_backwards_moves_before = len(number_backwards_moves_before)/len(mean_before_change_y_list)\n",
    "\n",
    "print(percentage_backwards_moves_before)"
   ]
  },
  {
   "cell_type": "code",
   "execution_count": 27,
   "metadata": {},
   "outputs": [
    {
     "name": "stdout",
     "output_type": "stream",
     "text": [
      "0.38\n"
     ]
    }
   ],
   "source": [
    "number_backwards_moves_after = [element for element in mean_after_change_y_list if element > 0]\n",
    "percentage_backwards_moves_after = len(number_backwards_moves_after)/len(mean_after_change_y_list)\n",
    "\n",
    "print(percentage_backwards_moves_after)"
   ]
  },
  {
   "cell_type": "code",
   "execution_count": 28,
   "metadata": {},
   "outputs": [
    {
     "data": {
      "image/png": "[encoded data removed]",
      "text/plain": [
       "<Figure size 432x288 with 1 Axes>"
      ]
     },
     "metadata": {
      "needs_background": "light"
     },
     "output_type": "display_data"
    }
   ],
   "source": [
    "fig, (ax) = plt.subplots()\n",
    "\n",
    "comparison = plt.bar(['Before ablation', 'After ablation'],[percentage_backwards_moves_before, percentage_backwards_moves_after ])\n",
    "\n",
    "ax.set(ylim=[0, 1])\n",
    "ax.set_ylabel('Proportion of leader retreats (%)')\n",
    "ax.set_title('Leaders more likely to retreat after follower ablation')\n",
    "\n",
    "comparison[0].set_color('lightseagreen')\n",
    "comparison[1].set_color('mediumpurple')"
   ]
  },
  {
   "cell_type": "code",
   "execution_count": null,
   "metadata": {},
   "outputs": [],
   "source": []
  }
 ],
 "metadata": {
  "kernelspec": {
   "display_name": "Python 3",
   "language": "python",
   "name": "python3"
  },
  "language_info": {
   "codemirror_mode": {
    "name": "ipython",
    "version": 3
   },
   "file_extension": ".py",
   "mimetype": "text/x-python",
   "name": "python",
   "nbconvert_exporter": "python",
   "pygments_lexer": "ipython3",
   "version": "3.8.5"
  }
 },
 "nbformat": 4,
 "nbformat_minor": 4
}
