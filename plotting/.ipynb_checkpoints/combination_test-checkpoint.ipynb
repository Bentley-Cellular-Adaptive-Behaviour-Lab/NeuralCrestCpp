{
 "cells": [
  {
   "cell_type": "markdown",
   "metadata": {},
   "source": [
    "## Compare hom and het systems with several combinations of De, k, aMag and interactionThreshold"
   ]
  },
  {
   "cell_type": "code",
   "execution_count": 29,
   "metadata": {},
   "outputs": [],
   "source": [
    "import numpy as np\n",
    "import numpy as np\n",
    "from os.path import join\n",
    "import subprocess\n",
    "import os\n",
    "import shutil\n",
    "import pandas as pd\n",
    "import calculate_scores\n",
    "from scipy import stats\n",
    "import datetime\n",
    "import sys"
   ]
  },
  {
   "cell_type": "code",
   "execution_count": 21,
   "metadata": {},
   "outputs": [],
   "source": [
    "# Set boundaries\n",
    "high_De = 0.005\n",
    "low_De = 0.00001\n",
    "De_options = [high_De, low_De]\n",
    "\n",
    "high_k = 0.01\n",
    "low_k = 0.00001\n",
    "k_options = [high_k, low_k]\n",
    "\n",
    "high_aMag = 5e-06\n",
    "low_aMag = 1e-09\n",
    "aMag_options = [high_aMag, low_aMag]\n",
    "\n",
    "high_interactionThreshold = 2\n",
    "low_interactionThreshold = 1\n",
    "interactionThreshold_options = [high_interactionThreshold, low_interactionThreshold]"
   ]
  },
  {
   "cell_type": "code",
   "execution_count": 22,
   "metadata": {},
   "outputs": [
    {
     "data": {
      "text/plain": [
       "[[0.005, 5e-06, 2],\n",
       " [0.005, 5e-06, 1],\n",
       " [0.005, 1e-09, 2],\n",
       " [0.005, 1e-09, 1],\n",
       " [1e-05, 5e-06, 2],\n",
       " [1e-05, 5e-06, 1],\n",
       " [1e-05, 1e-09, 2],\n",
       " [1e-05, 1e-09, 1]]"
      ]
     },
     "execution_count": 22,
     "metadata": {},
     "output_type": "execute_result"
    }
   ],
   "source": [
    "combination_list = []\n",
    "\n",
    "for De in De_options:\n",
    "        for aMag in aMag_options:\n",
    "            for interactionThreshold in interactionThreshold_options:\n",
    "                \n",
    "                #print(str(De)+\" \"+str(k)+\" \"+str(aMag)+\" \"+str(interactionThreshold))\n",
    "                combination_list.append([De, aMag, interactionThreshold])\n",
    "                \n",
    "combination_list"
   ]
  },
  {
   "cell_type": "code",
   "execution_count": 23,
   "metadata": {},
   "outputs": [],
   "source": [
    "Both_celltype_combination = []\n",
    "\n",
    "# Each combination for both cells\n",
    "for celltype1 in combination_list:\n",
    "    for celltype2 in combination_list:\n",
    "        \n",
    "        #print(str(celltype1)+ \"---\" + str(celltype2))\n",
    "        Both_celltype_combination.append([celltype1,celltype2])"
   ]
  },
  {
   "cell_type": "code",
   "execution_count": 24,
   "metadata": {},
   "outputs": [
    {
     "data": {
      "text/plain": [
       "(64, 2, 3)"
      ]
     },
     "execution_count": 24,
     "metadata": {},
     "output_type": "execute_result"
    }
   ],
   "source": [
    "np.array(Both_celltype_combination).shape"
   ]
  },
  {
   "cell_type": "code",
   "execution_count": 39,
   "metadata": {},
   "outputs": [],
   "source": [
    "# Construct executable\n",
    "\n",
    "num_runs = 1\n",
    "#EXE_DIR = os.path.dirname(os.path.realpath(__file__))\n",
    "\n",
    "def run_simulation(parameters):\n",
    "\n",
    "    OUTPUT_DIR = 'output'\n",
    "    CELL_POSITION_DIR = None\n",
    "    param_PMZw = 1\n",
    "    param_PMZh = 0.50\n",
    "    CEwidth = 0.28\n",
    "    CMwidth = 0.8\n",
    "    param_CElength = 1#0.84\n",
    "\n",
    "    # Custom params\n",
    "    k = parameters[0]\n",
    "    De = parameters[1]\n",
    "    aMag = parameters[2]\n",
    "    kdiff = abs(parameters[3])\n",
    "    Dediff = abs(parameters[4])\n",
    "    aMagdiff = abs(parameters[5])\n",
    "    lfratio = abs(parameters[6])\n",
    "    experimentType = abs(parameters[7])\n",
    "\n",
    "\n",
    "    # Create the executable\n",
    "    EXE = '!./NeuralCrest {} {} {} {} {} {} {} {} {} {} {} {} {} {} {} {} {} {} {} {} {} {}'.format(6,\n",
    "                    k,\n",
    "                    De, \n",
    "                    0.01,\n",
    "                    aMag,\n",
    "                    0.13,\n",
    "                    1,\n",
    "                    param_PMZw,\n",
    "                    param_PMZh,\n",
    "                    CEwidth,\n",
    "                    CMwidth,\n",
    "                    param_CElength,\n",
    "                    10000,\n",
    "                    0.1,\n",
    "                    200,\n",
    "                    1,\n",
    "                    1,\n",
    "                    kdiff,\n",
    "                    Dediff,\n",
    "                    aMagdiff,\n",
    "                    lfratio,\n",
    "                    experimentType\n",
    "                    )\n",
    "    \n",
    "    for run in range(num_runs):\n",
    "\n",
    "    \n",
    "#         try:\n",
    "\n",
    "        # Run the simulation\n",
    "        completed_run = subprocess.run([EXE], shell = True)\n",
    "\n",
    "\n",
    "#         except NotADirectoryError:\n",
    "#             print('Not Directory Error')\n",
    "#             pass\n",
    "#         except subprocess.TimeoutExpired:\n",
    "#             print('TimeoutExpired Error')\n",
    "#             pass"
   ]
  },
  {
   "cell_type": "code",
   "execution_count": 40,
   "metadata": {},
   "outputs": [],
   "source": [
    "# One leader\n",
    "kpar = 0.01\n",
    "Depar = 1e-5\n",
    "apar = 1e-06\n",
    "amod = 2\n",
    "kmod = 0\n",
    "Demod = 5\n",
    "experimentType = 1\n",
    "\n",
    "\n",
    "#for i in [1,2,3]:\n",
    "for i in [2]:\n",
    "\n",
    "    run_simulation([kpar, Depar, apar, amod, kmod, Demod, 0, i])"
   ]
  },
  {
   "cell_type": "code",
   "execution_count": null,
   "metadata": {},
   "outputs": [],
   "source": []
  },
  {
   "cell_type": "code",
   "execution_count": null,
   "metadata": {},
   "outputs": [],
   "source": []
  }
 ],
 "metadata": {
  "kernelspec": {
   "display_name": "Python 3",
   "language": "python",
   "name": "python3"
  },
  "language_info": {
   "codemirror_mode": {
    "name": "ipython",
    "version": 3
   },
   "file_extension": ".py",
   "mimetype": "text/x-python",
   "name": "python",
   "nbconvert_exporter": "python",
   "pygments_lexer": "ipython3",
   "version": "3.8.5"
  }
 },
 "nbformat": 4,
 "nbformat_minor": 4
}
