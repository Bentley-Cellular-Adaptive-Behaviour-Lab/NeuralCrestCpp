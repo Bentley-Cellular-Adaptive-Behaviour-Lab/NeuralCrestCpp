{
 "cells": [
  {
   "cell_type": "code",
   "execution_count": 1,
   "metadata": {},
   "outputs": [],
   "source": [
    "import pandas as pd\n",
    "import numpy as np\n",
    "import matplotlib.pyplot as plt\n",
    "from scipy import stats"
   ]
  },
  {
   "cell_type": "code",
   "execution_count": 5,
   "metadata": {},
   "outputs": [],
   "source": [
    "Control_results = pd.read_csv('results/Ablation/leaderAblationControl_results.csv')\n",
    "LeaderAblation_results = pd.read_csv('results/Ablation/leaderAblation_results.csv')\n",
    "LeaderAblationControl_results = pd.read_csv('results/Ablation/leaderAblationControl_results.csv')\n",
    "\n"
   ]
  },
  {
   "cell_type": "code",
   "execution_count": 6,
   "metadata": {},
   "outputs": [],
   "source": [
    "mean_time_two_cells_MP_exit_Control = np.mean(Control_results.time)\n",
    "mean_time_two_cells_MP_exit_LeaderAblation = np.mean(LeaderAblation_results.time)\n",
    "mean_time_two_cells_MP_exit_LeaderAblationNextLeader = np.mean(LeaderAblationNextLeader_results.time)\n",
    "\n"
   ]
  },
  {
   "cell_type": "code",
   "execution_count": 7,
   "metadata": {},
   "outputs": [
    {
     "data": {
      "image/png": "[encoded data removed]",
      "text/plain": [
       "<Figure size 432x288 with 1 Axes>"
      ]
     },
     "metadata": {
      "needs_background": "light"
     },
     "output_type": "display_data"
    }
   ],
   "source": [
    "fig, (ax) = plt.subplots()\n",
    "\n",
    "ablation_experiments = plt.bar(['Control', 'Leader ablation','Leader ablation next leader', ],\n",
    "                               [mean_time_two_cells_MP_exit_Control,\n",
    "                                mean_time_two_cells_MP_exit_LeaderAblation,\n",
    "                                mean_time_two_cells_MP_exit_LeaderAblationNextLeader])\n",
    "\n",
    "ax.set(ylim=[0, 25000])\n",
    "ax.set_ylabel('Mean time steps elapsed before cell\\n passes middle (arbitrary units)')\n",
    "ax.set_title('Migration completion speed in control vs leader ablation')\n",
    "\n",
    "ablation_experiments[0].set_color('darkslategray')\n",
    "ablation_experiments[1].set_color('mediumvioletred')\n",
    "\n",
    "# ablation_comparison.xlim = [10000]"
   ]
  },
  {
   "cell_type": "code",
   "execution_count": 14,
   "metadata": {},
   "outputs": [
    {
     "data": {
      "text/plain": [
       "KstestResult(statistic=0.43869948844714524, pvalue=6.106226635438361e-15)"
      ]
     },
     "execution_count": 14,
     "metadata": {},
     "output_type": "execute_result"
    }
   ],
   "source": [
    "stats.ks_2samp(Control_results.time, \n",
    "               LeaderAblation_results.time)"
   ]
  },
  {
   "cell_type": "code",
   "execution_count": 7,
   "metadata": {},
   "outputs": [
    {
     "data": {
      "text/plain": [
       "KstestResult(statistic=0.08717357910906298, pvalue=0.34584659462065337)"
      ]
     },
     "execution_count": 7,
     "metadata": {},
     "output_type": "execute_result"
    }
   ],
   "source": [
    "stats.ks_2samp(Control_results.time, \n",
    "               FollowerAblation_results.time)"
   ]
  },
  {
   "cell_type": "code",
   "execution_count": null,
   "metadata": {},
   "outputs": [],
   "source": []
  },
  {
   "cell_type": "code",
   "execution_count": null,
   "metadata": {},
   "outputs": [],
   "source": []
  }
 ],
 "metadata": {
  "kernelspec": {
   "display_name": "Python 3",
   "language": "python",
   "name": "python3"
  },
  "language_info": {
   "codemirror_mode": {
    "name": "ipython",
    "version": 3
   },
   "file_extension": ".py",
   "mimetype": "text/x-python",
   "name": "python",
   "nbconvert_exporter": "python",
   "pygments_lexer": "ipython3",
   "version": "3.8.5"
  }
 },
 "nbformat": 4,
 "nbformat_minor": 4
}
