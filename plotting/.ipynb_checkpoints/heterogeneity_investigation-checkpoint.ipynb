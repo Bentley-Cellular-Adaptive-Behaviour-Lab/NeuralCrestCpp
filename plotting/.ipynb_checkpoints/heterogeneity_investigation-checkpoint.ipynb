{
 "cells": [
  {
   "cell_type": "code",
   "execution_count": 50,
   "metadata": {},
   "outputs": [],
   "source": [
    "import pandas as pd\n",
    "import os\n",
    "import numpy as np\n",
    "import math"
   ]
  },
  {
   "cell_type": "code",
   "execution_count": 51,
   "metadata": {},
   "outputs": [],
   "source": [
    "headers = ['time','y_position','x_position','v_auto_0','v_auto_1','v_bound_0','v_bound_1','cellradius','cell_label','cell_type','experiment_type']"
   ]
  },
  {
   "cell_type": "code",
   "execution_count": 52,
   "metadata": {},
   "outputs": [],
   "source": [
    "PMZheight = 0.5\n",
    "Clength = 0.84\n",
    "CMwidth = 1\n",
    "CEwidth = 0.3\n",
    "midpoint_width = 1\n",
    "migratory_zone_border = -PMZheight/2.0 -Clength/10.0\n",
    "diamondOffset = (CMwidth-CEwidth)/2.0\n",
    "middle_exit_border = -diamondOffset-Clength-PMZheight/2.0\n",
    "#ax.fill([-PMZwidth/2.0,-CEwidth/2.0,-CEwidth/2.0,-PMZwidth/2.0],\n",
    "#[-diamondOffset-Clength-PMZheight/2.0,-diamondOffset-Clength-PMZheight/2.0,-2.0*Clength-PMZheight/2.0,-2.0*Clength-PMZheight/2.0]\n"
   ]
  },
  {
   "cell_type": "code",
   "execution_count": 53,
   "metadata": {},
   "outputs": [],
   "source": [
    "# Find number of migrating cells for all groups\n",
    "\n",
    "experiment_types = [\"\",\"Odd\", \"All\", \"None\"]\n",
    "\n",
    "odd_exiting_cells = []\n",
    "all_exiting_cells = []\n",
    "none_exiting_cells = []\n",
    "\n",
    "migrating_cells = []\n",
    "exit_middle_cells = []\n",
    "max_time_steps = []\n",
    "for file in [f for f in os.listdir('output') if f != '.DS_Store']:\n",
    "    experiment_df = pd.read_csv('output' + os.sep + file + os.sep + 'cellpositions.txt',\n",
    "                               names = headers,\n",
    "                               delimiter = '\\s',\n",
    "                               engine = 'python')\n",
    "    \n",
    "    \n",
    "    experiment_t = experiment_types[experiment_df.experiment_type.unique()[0]]\n",
    "    \n",
    "    if experiment_t == \"Odd\":\n",
    "        odd_exiting_cells.append(len(experiment_df.query('y_position < @middle_exit_border').cell_label.unique()))\n",
    "        \n",
    "    if experiment_t == \"All\":\n",
    "        all_exiting_cells.append(len(experiment_df.query('y_position < @middle_exit_border').cell_label.unique()))\n",
    "    \n",
    "    if experiment_t == \"None\":\n",
    "        none_exiting_cells.append(len(experiment_df.query('y_position < @middle_exit_border').cell_label.unique()))\n"
   ]
  },
  {
   "cell_type": "code",
   "execution_count": 56,
   "metadata": {},
   "outputs": [
    {
     "name": "stdout",
     "output_type": "stream",
     "text": [
      "8\n",
      "8\n",
      "8\n"
     ]
    }
   ],
   "source": [
    "print(sum(odd_exiting_cells))\n",
    "print(sum(all_exiting_cells))\n",
    "print(sum(none_exiting_cells))"
   ]
  },
  {
   "cell_type": "code",
   "execution_count": 55,
   "metadata": {},
   "outputs": [],
   "source": [
    "    #migrating_cells = len(experiment_df.query('y_position < @migratory_zone_border').cell_label.unique())\n",
    "    migrating_cells.append(len(experiment_df.query('y_position < @migratory_zone_border & experiment_type == @i').cell_label.unique()))\n",
    "    exit_middle_cells.append(len(experiment_df.query('y_position < @middle_exit_border & experiment_type == @i').cell_label.unique()))\n",
    "    max_time_steps.append(experiment_df.time.max())\n",
    "\n",
    "#     print(\"Migrating cells \" + str(np.sum(migrating_cells)))\n",
    "#     print(\"Exiting cells \" + str(np.sum(exit_middle_cells)))\n",
    "#     print(\"Time steps \" + str(np.mean(max_time_steps)))\n",
    "#     print(\"\")"
   ]
  },
  {
   "cell_type": "code",
   "execution_count": null,
   "metadata": {},
   "outputs": [],
   "source": []
  },
  {
   "cell_type": "code",
   "execution_count": null,
   "metadata": {},
   "outputs": [],
   "source": []
  },
  {
   "cell_type": "code",
   "execution_count": null,
   "metadata": {},
   "outputs": [],
   "source": []
  },
  {
   "cell_type": "code",
   "execution_count": null,
   "metadata": {},
   "outputs": [],
   "source": []
  },
  {
   "cell_type": "code",
   "execution_count": null,
   "metadata": {},
   "outputs": [],
   "source": []
  }
 ],
 "metadata": {
  "kernelspec": {
   "display_name": "Python 3",
   "language": "python",
   "name": "python3"
  },
  "language_info": {
   "codemirror_mode": {
    "name": "ipython",
    "version": 3
   },
   "file_extension": ".py",
   "mimetype": "text/x-python",
   "name": "python",
   "nbconvert_exporter": "python",
   "pygments_lexer": "ipython3",
   "version": "3.8.5"
  }
 },
 "nbformat": 4,
 "nbformat_minor": 4
}
