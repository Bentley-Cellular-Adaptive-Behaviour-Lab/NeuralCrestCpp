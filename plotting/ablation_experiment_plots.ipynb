{
 "cells": [
  {
   "cell_type": "code",
   "execution_count": 2,
   "metadata": {},
   "outputs": [],
   "source": [
    "import pandas as pd\n",
    "import numpy as np\n",
    "import matplotlib.pyplot as plt\n",
    "from scipy import stats"
   ]
  },
  {
   "cell_type": "code",
   "execution_count": 3,
   "metadata": {},
   "outputs": [],
   "source": [
    "Control_results = pd.read_csv('results/Ablation/leaderAblationControl_results.csv')\n",
    "LeaderAblation_results = pd.read_csv('results/Ablation/leaderAblation_results.csv')\n",
    "LeaderAblationNextLeader_results = pd.read_csv('results/Ablation/leaderAblationNextLeader_results.csv')\n",
    "\n"
   ]
  },
  {
   "cell_type": "code",
   "execution_count": 4,
   "metadata": {},
   "outputs": [],
   "source": [
    "mean_time_two_cells_MP_exit_Control = np.mean(Control_results.time)\n",
    "mean_time_two_cells_MP_exit_LeaderAblation = np.mean(LeaderAblation_results.time)\n",
    "mean_time_two_cells_MP_exit_LeaderAblationNextLeader = np.mean(LeaderAblationNextLeader_results.time)\n",
    "\n"
   ]
  },
  {
   "cell_type": "code",
   "execution_count": 5,
   "metadata": {},
   "outputs": [
    {
     "data": {
      "image/png": "[encoded data removed]",
      "text/plain": [
       "<Figure size 432x288 with 1 Axes>"
      ]
     },
     "metadata": {
      "needs_background": "light"
     },
     "output_type": "display_data"
    }
   ],
   "source": [
    "fig, (ax) = plt.subplots()\n",
    "\n",
    "ablation_experiments = plt.bar(['Control', 'Leader ablation','Leader ablation\\nnext leader', ],\n",
    "                               [mean_time_two_cells_MP_exit_Control,\n",
    "                                mean_time_two_cells_MP_exit_LeaderAblation,\n",
    "                                mean_time_two_cells_MP_exit_LeaderAblationNextLeader])\n",
    "\n",
    "ax.set(ylim=[5000, 50000])\n",
    "ax.set_ylabel('Mean time steps elapsed before cell\\n passes middle (arbitrary units)')\n",
    "ax.set_title('Migration completion speed in control vs leader ablation')\n",
    "\n",
    "ablation_experiments[0].set_color('darkslategray')\n",
    "ablation_experiments[1].set_color('mediumvioletred')\n",
    "ablation_experiments[2].set_color('dodgerblue')\n"
   ]
  },
  {
   "cell_type": "code",
   "execution_count": 6,
   "metadata": {},
   "outputs": [
    {
     "data": {
      "text/plain": [
       "KstestResult(statistic=0.68, pvalue=0.001235323815968803)"
      ]
     },
     "execution_count": 6,
     "metadata": {},
     "output_type": "execute_result"
    }
   ],
   "source": [
    "stats.ks_2samp(Control_results.time, \n",
    "               LeaderAblation_results.time)"
   ]
  },
  {
   "cell_type": "code",
   "execution_count": 7,
   "metadata": {},
   "outputs": [
    {
     "data": {
      "text/plain": [
       "KstestResult(statistic=0.40923076923076923, pvalue=0.021095370438000804)"
      ]
     },
     "execution_count": 7,
     "metadata": {},
     "output_type": "execute_result"
    }
   ],
   "source": [
    "stats.ks_2samp(Control_results.time, \n",
    "               LeaderAblationNextLeader_results.time)"
   ]
  },
  {
   "cell_type": "code",
   "execution_count": 8,
   "metadata": {},
   "outputs": [
    {
     "data": {
      "text/plain": [
       "KstestResult(statistic=0.9230769230769231, pvalue=5.193030118144648e-07)"
      ]
     },
     "execution_count": 8,
     "metadata": {},
     "output_type": "execute_result"
    }
   ],
   "source": [
    "stats.ks_2samp(LeaderAblation_results.time, \n",
    "               LeaderAblationNextLeader_results.time)"
   ]
  },
  {
   "cell_type": "code",
   "execution_count": 1,
   "metadata": {},
   "outputs": [
    {
     "ename": "NameError",
     "evalue": "name 'pd' is not defined",
     "output_type": "error",
     "traceback": [
      "\u001b[0;31m---------------------------------------------------------------------------\u001b[0m",
      "\u001b[0;31mNameError\u001b[0m                                 Traceback (most recent call last)",
      "\u001b[0;32m<ipython-input-1-e578dbd16eb0>\u001b[0m in \u001b[0;36m<module>\u001b[0;34m\u001b[0m\n\u001b[0;32m----> 1\u001b[0;31m \u001b[0mdata\u001b[0m \u001b[0;34m=\u001b[0m \u001b[0mpd\u001b[0m\u001b[0;34m.\u001b[0m\u001b[0mread_csv\u001b[0m\u001b[0;34m(\u001b[0m\u001b[0;34m'/Users/feldnerd/Documents/GitHub/NeuralCrestCpp/simulation_summary_output_0_.csv'\u001b[0m\u001b[0;34m)\u001b[0m\u001b[0;34m\u001b[0m\u001b[0;34m\u001b[0m\u001b[0m\n\u001b[0m",
      "\u001b[0;31mNameError\u001b[0m: name 'pd' is not defined"
     ]
    }
   ],
   "source": [
    "data = pd.read_csv('/Users/feldnerd/Documents/GitHub/NeuralCrestCpp/simulation_summary_output_0_.csv')"
   ]
  },
  {
   "cell_type": "code",
   "execution_count": null,
   "metadata": {},
   "outputs": [],
   "source": []
  }
 ],
 "metadata": {
  "kernelspec": {
   "display_name": "Python 3",
   "language": "python",
   "name": "python3"
  },
  "language_info": {
   "codemirror_mode": {
    "name": "ipython",
    "version": 3
   },
   "file_extension": ".py",
   "mimetype": "text/x-python",
   "name": "python",
   "nbconvert_exporter": "python",
   "pygments_lexer": "ipython3",
   "version": "3.8.5"
  }
 },
 "nbformat": 4,
 "nbformat_minor": 4
}
